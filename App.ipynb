{
 "cells": [
  {
   "cell_type": "code",
   "execution_count": 208,
   "id": "9a739ecf-07a1-4e76-a9d4-f7f01c07284b",
   "metadata": {},
   "outputs": [],
   "source": [
    "import matplotlib.pyplot as plt\n",
    "import numpy as np\n",
    "import pandas as pd\n",
    "import os"
   ]
  },
  {
   "cell_type": "code",
   "execution_count": 222,
   "id": "9cfe078d-abda-4fce-8f33-07cde40605bf",
   "metadata": {},
   "outputs": [],
   "source": [
    "\n",
    "def transaction_log_formatting(file_path):\n",
    "    file_path = \"statements/Discover-Last12Months-20241022.csv\"\n",
    "    df = pd.read_csv(file_path)\n",
    "    \n",
    "    df = df.drop(columns=df.columns[1])\n",
    "    df.rename(columns={\"Trans. Date\" : \"Date\"}, inplace=True)\n",
    "    df = df[~df[\"Description\"].str.startswith(\"INTERNET PAYMENT\")]\n",
    "    df = df[~df[\"Category\"].str.contains(\"Awards and Rebate Credits\")]\n",
    "    \n",
    "    df = df.reset_index(drop=True)\n",
    "    refund_mask = df[\"Category\"].str.contains('Payments and Credits', case=False, na=False)\n",
    "    refund_indicies = list(df[refund_mask].index) + list(df[refund_mask].index - 1)\n",
    "    df.drop(refund_indicies, inplace = True)\n",
    "    df[\"InGrinnell\"] = False\n",
    "    df[\"IsAmazon\"] = False\n",
    "    \n",
    "    # Standardizing datatypes\n",
    "    df['Description'] = df['Description'].astype(\"string\")\n",
    "    df['Category'] = df['Category'].astype(\"string\")\n",
    "    df['InGrinnell'] = df['InGrinnell'].astype(\"bool\")\n",
    "    df['IsAmazon'] = df['IsAmazon'].astype(\"bool\")\n",
    "    df['Date'] = pd.to_datetime(df['Date'])\n",
    "    \n",
    "    # InGrinnell and IsAmazon Columns\n",
    "    df[\"InGrinnell\"] = df[\"InGrinnell\"].mask(df[\"Description\"].str.contains(\"GRINNELL IA\"), True)\n",
    "    \n",
    "    df['IsAmazon'] = df[\"IsAmazon\"].mask(\n",
    "        (df[\"Description\"].str.contains(\"AMZN\")) | (df[\"Description\"].str.contains(\"AMAZON.COM\"))\n",
    "        , True)\n",
    "    \n",
    "    df = df.reset_index(drop=True)\n",
    "\n",
    "    return df\n",
    "\n",
    "def SaveExcel():\n",
    "    DASHBOARD_FILE_NAME = \"dashboard.xlsx\"\n",
    "    TRANSACTION_LOG_SHEET_NAME = \"Transaction Log\"\n",
    "\n",
    "    if DASHBOARD_FILE_NAME.exists():\n",
    "        raise Exception(f\"Dashboard file of path {DASHBOARD_FILE_NAME} does not exist.\") \n",
    "    \n",
    "    ## Writing transaction log to excel\n",
    "\n",
    "    if \n",
    "    with pd.ExcelWriter(DASHBOARD_FILE_NAME, mode='a', if_sheet_exists='replace') as writer:\n",
    "        df.to_excel(writer, sheet_name=TRANSACTION_LOG_SHEET_NAME, index=False)"
   ]
  },
  {
   "cell_type": "code",
   "execution_count": 220,
   "id": "e67f07a8-f2a1-4345-9c9c-25a7a82f001d",
   "metadata": {},
   "outputs": [],
   "source": []
  }
 ],
 "metadata": {
  "kernelspec": {
   "display_name": "Python 3 (ipykernel)",
   "language": "python",
   "name": "python3"
  },
  "language_info": {
   "codemirror_mode": {
    "name": "ipython",
    "version": 3
   },
   "file_extension": ".py",
   "mimetype": "text/x-python",
   "name": "python",
   "nbconvert_exporter": "python",
   "pygments_lexer": "ipython3",
   "version": "3.12.1"
  }
 },
 "nbformat": 4,
 "nbformat_minor": 5
}
